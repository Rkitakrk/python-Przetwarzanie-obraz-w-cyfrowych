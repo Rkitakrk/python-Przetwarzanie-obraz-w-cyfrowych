{
 "cells": [
  {
   "cell_type": "markdown",
   "metadata": {},
   "source": [
    "### Wykrywanie obszarów ruchu"
   ]
  },
  {
   "cell_type": "code",
   "execution_count": null,
   "metadata": {},
   "outputs": [],
   "source": [
    "import cv2\n",
    "import skimage\n",
    "from skimage import morphology\n",
    "from math import *\n",
    "from skimage import io, color, img_as_ubyte\n",
    "i = 1\n",
    "path = './zdj/'\n",
    "def segmentacja(obraz):\n",
    "     \n",
    "    k = 0\n",
    "    img = obraz.copy()\n",
    "    z1 = 1\n",
    "    z2 = 100 \n",
    "    for x in range(len(img)):\n",
    "        for y in range(len(img[x])):\n",
    "            if img.item(x,y)==255:\n",
    "                def taksWarunek():\n",
    "                    nonlocal k\n",
    "                    for n in range(x-z1, x+z1, 1):\n",
    "                        for m in range(y-z1, y+z2, 1):\n",
    "                            ##sprawdzam czy w otoczeniu punktu jasnego juz sa inne obiekty, jesli tak przypisuje punkt do pierwszego napotkanego obiektu.\n",
    "                            ##mam pewnosc, ze w otoczeniu nie ma innych obiektow niz szukamy, gdyz zmniejszylem w tym celu wszystkie obiekty\n",
    "                            if img.item(n, m) != 0 and img.item(n, m) != 255:\n",
    "                                img.itemset((x, y), (img.item(n, m)))\n",
    "                                return\n",
    "                    k += 1\n",
    "                    img.itemset((x, y), (7*k))\n",
    "                    \n",
    "                taksWarunek()\n",
    "    print(k)\n",
    "    cv2.imwrite('./bin/segment' + str(i) + '.jpg', img)\n",
    "    return\n",
    "while (i <= 15):\n",
    "    im = io.imread(path + str(i) + '.jpg')\n",
    "   \n",
    "   \n",
    "    th = 210\n",
    "    bim = cv2.cvtColor(im, cv2.COLOR_RGB2GRAY)\n",
    "    print('obraz nr ' + str(i)+' size ' + str(im.size))\n",
    "    th, bim = cv2.threshold(bim, thresh=th, maxval=255, type=cv2.THRESH_BINARY_INV)\n",
    "    import numpy as np\n",
    "    kernel = np.ones((3, 3), np.uint8)\n",
    "    bim = cv2.morphologyEx(bim, op=cv2.MORPH_CLOSE, kernel=kernel, iterations=5)\n",
    "    bim = cv2.morphologyEx(bim, op=cv2.MORPH_OPEN, kernel=kernel, iterations=5)\n",
    "    \n",
    "    bim = cv2.distanceTransform(bim, distanceType=cv2.DIST_L2, maskSize=cv2.DIST_MASK_PRECISE)\n",
    "    bim = cv2.morphologyEx(bim, op=cv2.MORPH_ERODE, kernel=kernel, iterations=80)\n",
    "    \n",
    "    th = 60\n",
    "    th, bim = cv2.threshold(bim, thresh=th, maxval=255, type=cv2.THRESH_BINARY)\n",
    "    bim = cv2.morphologyEx(bim, op=cv2.MORPH_DILATE, kernel=kernel, iterations=50)\n",
    "    cv2.imwrite('./bin/plik' + str(i) + '.jpg', bim)\n",
    "    segmentacja(bim)\n",
    "    i += 1\n",
    "print('skonczylem')"
   ]
  }
 ],
 "metadata": {
  "kernelspec": {
   "display_name": "Python 3",
   "language": "python",
   "name": "python3"
  },
  "language_info": {
   "codemirror_mode": {
    "name": "ipython",
    "version": 3
   },
   "file_extension": ".py",
   "mimetype": "text/x-python",
   "name": "python",
   "nbconvert_exporter": "python",
   "pygments_lexer": "ipython3",
   "version": "3.6.7"
  }
 },
 "nbformat": 4,
 "nbformat_minor": 2
}
